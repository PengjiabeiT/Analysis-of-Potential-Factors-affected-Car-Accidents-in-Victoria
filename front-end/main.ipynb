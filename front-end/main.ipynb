{
 "cells": [
  {
   "cell_type": "markdown",
   "metadata": {},
   "source": [
    "# Request Data"
   ]
  },
  {
   "cell_type": "code",
   "execution_count": null,
   "metadata": {},
   "outputs": [],
   "source": [
    "from requests_function import fetch_and_process_data\n",
    "data = fetch_and_process_data()"
   ]
  },
  {
   "cell_type": "markdown",
   "metadata": {},
   "source": [
    "## Test"
   ]
  },
  {
   "cell_type": "code",
   "execution_count": null,
   "metadata": {},
   "outputs": [],
   "source": [
    "print(data.keys())\n",
    "\n",
    "# # Print first few items of the population lookup dictionary\n",
    "# if 'population_lookup' in data:\n",
    "#     for key, value in list(data['population_lookup'].items())[:5]:\n",
    "#         print(key, value)\n",
    "\n",
    "# Check if 'accident_details' exists in the dictionary\n",
    "if 'accident_details' in data:\n",
    "    for detail in data['accident_details'][:5]:\n",
    "        print(detail)\n",
    "else:\n",
    "    print(\"'accident_details' key not found in the data.\")\n"
   ]
  },
  {
   "cell_type": "markdown",
   "metadata": {},
   "source": [
    "# LGA areas and the number/severity of accidents\n",
    "## 1. LGA & number of accidents & population\n",
    "### Full map"
   ]
  },
  {
   "cell_type": "code",
   "execution_count": null,
   "metadata": {},
   "outputs": [],
   "source": [
    "from map_functions import display_all_map\n",
    "\n",
    "if data:\n",
    "    all_map = display_all_map(data)\n",
    "    # all_map.save('map.html')\n",
    "else:\n",
    "    print(\"Data acquisition failed, please check the network connection and URL.\")\n",
    "\n",
    "all_map"
   ]
  },
  {
   "cell_type": "markdown",
   "metadata": {},
   "source": [
    "### Map search"
   ]
  },
  {
   "cell_type": "code",
   "execution_count": null,
   "metadata": {},
   "outputs": [],
   "source": [
    "from map_functions import display_city_map\n",
    "\n",
    "if data:\n",
    "    city_name = input(\"Please enter the city name (LGA_NAME):\")\n",
    "    city_map = display_city_map(data, city_name)  \n",
    "    if city_map:\n",
    "        # city_map.save('city_map.html')\n",
    "        print(f\"Map for {city_name} is displayed.\")\n",
    "    else:\n",
    "        print(\"The specified city name was not found, please make sure to enter it correctly.\")\n",
    "else:\n",
    "    print(\"Data acquisition failed, please check the network connection and URL.\")\n",
    "\n",
    "city_map"
   ]
  },
  {
   "cell_type": "markdown",
   "metadata": {},
   "source": [
    "## 2. LGA & number of accidents map\n",
    "### Accident dots map"
   ]
  },
  {
   "cell_type": "code",
   "execution_count": null,
   "metadata": {},
   "outputs": [],
   "source": [
    "from map_functions import display_map_with_accidents_severity_dot\n",
    "\n",
    "if data:\n",
    "    all_map = display_map_with_accidents_severity_dot(data)\n",
    "    # all_map.save('map.html')\n",
    "else:\n",
    "    print(\"Data acquisition failed, please check the network connection and URL.\")\n",
    "\n",
    "all_map"
   ]
  },
  {
   "cell_type": "markdown",
   "metadata": {},
   "source": [
    "### Accident clustering map"
   ]
  },
  {
   "cell_type": "code",
   "execution_count": null,
   "metadata": {},
   "outputs": [],
   "source": [
    "from map_functions import display_map_with_clustering_accidents\n",
    "\n",
    "if data:\n",
    "    all_map = display_map_with_clustering_accidents(data)\n",
    "    # all_map.save('map.html')\n",
    "else:\n",
    "    print(\"Data acquisition failed, please check the network connection and URL.\")\n",
    "\n",
    "all_map"
   ]
  },
  {
   "cell_type": "markdown",
   "metadata": {},
   "source": [
    "# Population and the number of car accidents\n",
    "### Bar chart for Population and the number of car accidents"
   ]
  },
  {
   "cell_type": "code",
   "execution_count": null,
   "metadata": {},
   "outputs": [],
   "source": [
    "import pandas as pd\n",
    "import plotly.express as px\n",
    "\n",
    "population_lookup  = dict(sorted(data['population_lookup'].items(), key=lambda item: item[1]))\n",
    "accident_counts  = dict(sorted(data['accident_counts'].items(), key=lambda item: item[1]))\n",
    "\n",
    "df_population = pd.DataFrame(list(population_lookup.items()), columns=['City', 'Population'])\n",
    "df_accidents = pd.DataFrame(list(accident_counts.items()), columns=['City', 'AccidentCounts'])\n",
    "\n",
    "df = pd.merge(df_population, df_accidents, on='City')\n",
    "\n",
    "fig = px.bar(df, y='City', x='Population', orientation='h',\n",
    "             hover_data=['AccidentCounts'],\n",
    "             color='AccidentCounts', labels={'Population': 'Population of City'})\n",
    "\n",
    "fig.update_layout(\n",
    "    title='Population and Accident Counts of Cities',\n",
    "    xaxis_title=\"Population\",\n",
    "    yaxis_title=\"City\",\n",
    "    autosize=False,\n",
    "    width=1000,  \n",
    "    height=1200,  \n",
    "    coloraxis_colorbar=dict(title=\"Accident Counts\"),\n",
    "    yaxis=dict(\n",
    "        tickmode='array',\n",
    "        tickvals=df.index,\n",
    "        ticktext=df['City'],\n",
    "        tickfont=dict(size=10)  \n",
    "    )\n",
    ")\n",
    "\n",
    "fig.show()"
   ]
  },
  {
   "cell_type": "markdown",
   "metadata": {},
   "source": [
    "### Scatter plot for Population and the number of car accidents"
   ]
  },
  {
   "cell_type": "code",
   "execution_count": null,
   "metadata": {},
   "outputs": [],
   "source": [
    "population_lookup  = dict(sorted(data['population_lookup'].items(), key=lambda item: item[1]))\n",
    "accident_counts  = dict(sorted(data['accident_counts'].items(), key=lambda item: item[1]))\n",
    "\n",
    "df_population = pd.DataFrame(list(population_lookup.items()), columns=['City', 'Population'])\n",
    "df_accidents = pd.DataFrame(list(accident_counts.items()), columns=['City', 'AccidentCounts'])\n",
    "\n",
    "df = pd.merge(df_population, df_accidents, on='City')\n",
    "\n",
    "fig = px.scatter(df, x='Population', y='AccidentCounts', color='City',\n",
    "                 trendline='ols',  \n",
    "                 labels={'Population': 'Population of City', 'AccidentCounts': 'Number of Accidents'},\n",
    "                 title='Relationship between Population and Number of Accidents')\n",
    "\n",
    "fig.update_layout(\n",
    "    autosize=False,\n",
    "    width=1000,\n",
    "    height=600,\n",
    "    xaxis_title=\"Population\",\n",
    "    yaxis_title=\"Number of Accidents\"\n",
    ")\n",
    "\n",
    "fig.show()"
   ]
  },
  {
   "cell_type": "markdown",
   "metadata": {},
   "source": [
    "### OLS model for linear regression fot scatter plot"
   ]
  },
  {
   "cell_type": "code",
   "execution_count": null,
   "metadata": {},
   "outputs": [],
   "source": [
    "import pandas as pd\n",
    "import plotly.graph_objects as go\n",
    "import statsmodels.api as sm\n",
    "\n",
    "X = sm.add_constant(df['Population'])  # Adds a constant term to the predictor\n",
    "model = sm.OLS(df['AccidentCounts'], X)\n",
    "results = model.fit()\n",
    "\n",
    "df['fit'] = results.fittedvalues\n",
    "\n",
    "fig = go.Figure()\n",
    "fig.add_trace(go.Scatter(x=df['Population'], y=df['AccidentCounts'], mode='markers', name='Data'))\n",
    "fig.add_trace(go.Scatter(x=df['Population'], y=df['fit'], mode='lines', name='OLS Fit'))\n",
    "\n",
    "fig.update_layout(title='Relationship between Population and Number of Accidents with OLS',\n",
    "                  xaxis_title='Population',\n",
    "                  yaxis_title='Number of Accidents',\n",
    "                  autosize=False,\n",
    "                  width=1100,\n",
    "                  height=900)\n",
    "\n",
    "fig.show()"
   ]
  },
  {
   "cell_type": "markdown",
   "metadata": {},
   "source": [
    "# Rainfall & speed on the number of accidents"
   ]
  },
  {
   "cell_type": "code",
   "execution_count": null,
   "metadata": {},
   "outputs": [],
   "source": [
    "from requests_function import fetch_weather_data\n",
    "\n",
    "start_date = '20230102'\n",
    "end_date = '20230930'\n",
    "rainfall_data = fetch_weather_data(start_date, end_date)\n",
    "\n",
    "#rainfall_data"
   ]
  },
  {
   "cell_type": "code",
   "execution_count": null,
   "metadata": {},
   "outputs": [],
   "source": [
    "import pandas as pd\n",
    "from datetime import datetime\n",
    "accidents = data['accident_details']\n",
    "\n",
    "melbourne_accidents = [accident for accident in accidents if accident['LOCATION'] == 'MELBOURNE']\n",
    "\n",
    "filtered_accidents = [accident for accident in melbourne_accidents if accident['SPEED_ZONE'] not in ['777', '888', '999']]\n",
    "\n",
    "start_date = datetime.strptime('2022-01-01', '%Y-%m-%d')\n",
    "end_date = datetime.strptime('2023-09-30', '%Y-%m-%d')\n",
    "\n",
    "date_filtered_accidents = [\n",
    "    accident for accident in filtered_accidents\n",
    "    if start_date <= datetime.strptime(accident['ACCIDENT_DATE'], '%Y-%m-%d') <= end_date\n",
    "]\n",
    "\n",
    "#date_filtered_accidents\n",
    "\n",
    "df_rainfall = pd.DataFrame(list(rainfall_data.items()), columns=['Date', 'Rainfall'])\n",
    "df_accidents = pd.DataFrame(date_filtered_accidents)\n",
    "\n",
    "df_rainfall['Date'] = pd.to_datetime(df_rainfall['Date'], format='%Y%m%d')\n",
    "df_accidents['ACCIDENT_DATE'] = pd.to_datetime(df_accidents['ACCIDENT_DATE'], format='%Y-%m-%d')\n",
    "\n",
    "df_merged = pd.merge(df_accidents, df_rainfall, left_on='ACCIDENT_DATE', right_on='Date', how='inner')\n",
    "\n",
    "df_merged['SPEED_ZONE'] = pd.to_numeric(df_merged['SPEED_ZONE'], errors='coerce')\n",
    "df_merged['Rainfall'] = pd.to_numeric(df_merged['Rainfall'], errors='coerce')\n",
    "\n",
    "#print(df_merged.head())"
   ]
  },
  {
   "cell_type": "code",
   "execution_count": null,
   "metadata": {},
   "outputs": [],
   "source": [
    "import plotly.express as px\n",
    "\n",
    "fig = px.scatter(df_merged, x='Rainfall', y='SPEED_ZONE', color='SPEED_ZONE',\n",
    "                 title='Relationship Between Rainfall, Accidents and Speed Zone',\n",
    "                 labels={'Rainfall': 'Rainfall (mm)', 'SPEED_ZONE': 'Speed Zone (km/h)'},\n",
    "                 range_x=[0, 25])  \n",
    "\n",
    "\n",
    "fig.update_layout(\n",
    "    autosize=False,\n",
    "    width=1200,  \n",
    "    height=800,  \n",
    "    yaxis=dict(\n",
    "        tickmode='linear', \n",
    "        dtick=10  \n",
    "    )\n",
    ")\n",
    "\n",
    "fig.show()"
   ]
  },
  {
   "cell_type": "markdown",
   "metadata": {},
   "source": [
    "### Rainfall and car accidents"
   ]
  },
  {
   "cell_type": "code",
   "execution_count": null,
   "metadata": {},
   "outputs": [],
   "source": [
    "import pandas as pd\n",
    "import plotly.express as px\n",
    "\n",
    "accidents_per_rainfall = df_merged.groupby('Rainfall').size().reset_index(name='Accident_Count')\n",
    "\n",
    "fig = px.bar(accidents_per_rainfall, x='Rainfall', y='Accident_Count',\n",
    "             title='Accidents Count by Rainfall',\n",
    "             labels={'Rainfall': 'Rainfall (mm)', 'Accident_Count': 'Number of Accidents'},\n",
    "             text='Accident_Count')  \n",
    "\n",
    "\n",
    "fig.update_traces(texttemplate='%{text:.2s}', textposition='outside')\n",
    "fig.update_layout(uniformtext_minsize=8, uniformtext_mode='hide',\n",
    "                  xaxis=dict(\n",
    "                    range=[0, 15],  \n",
    "                    title=\"Rainfall (mm)\"),\n",
    "                  yaxis_title=\"Number of Accidents\",\n",
    "                  autosize=False,\n",
    "                  width=1600,\n",
    "                  height=800)\n",
    "\n",
    "\n",
    "fig.show()"
   ]
  },
  {
   "cell_type": "markdown",
   "metadata": {},
   "source": [
    "### Speed and car accidents"
   ]
  },
  {
   "cell_type": "code",
   "execution_count": null,
   "metadata": {},
   "outputs": [],
   "source": [
    "import plotly.express as px\n",
    "\n",
    "accidents_per_speed_zone = df_merged.groupby('SPEED_ZONE').size().reset_index(name='Accident_Count')\n",
    "\n",
    "fig = px.bar(accidents_per_speed_zone, x='SPEED_ZONE', y='Accident_Count',\n",
    "             title='Accidents Count by Speed Zone',\n",
    "             labels={'SPEED_ZONE': 'Speed Zone (km/h)', 'Accident_Count': 'Number of Accidents'},\n",
    "             text='Accident_Count')  \n",
    "\n",
    "fig.update_traces(texttemplate='%{text:.2s}', textposition='outside')\n",
    "fig.update_layout(\n",
    "    xaxis_title=\"Speed Zone (km/h)\",\n",
    "    yaxis_title=\"Number of Accidents\",\n",
    "    autosize=False,\n",
    "    width=1000,\n",
    "    height=800\n",
    ")\n",
    "\n",
    "\n",
    "fig.show()"
   ]
  },
  {
   "cell_type": "markdown",
   "metadata": {},
   "source": [
    "# Severity of the car accident\n",
    "## 1. Full Severity Statistics for 2023"
   ]
  },
  {
   "cell_type": "code",
   "execution_count": null,
   "metadata": {},
   "outputs": [],
   "source": [
    "import pandas as pd\n",
    "import plotly.graph_objects as go\n",
    "\n",
    "severities = [accident['SEVERITY'] for accident in data['accident_details']]\n",
    "\n",
    "\n",
    "severity_counts = pd.Series(severities).value_counts().sort_index()\n",
    "\n",
    "\n",
    "labels = severity_counts.index\n",
    "values = severity_counts.values\n",
    "\n",
    "\n",
    "colors = ['red', 'orange', 'yellow', 'green']\n",
    "\n",
    "\n",
    "fig = go.Figure(data=[go.Pie(labels=labels, values=values, hole=0.3, marker_colors=colors)])\n",
    "fig.update_layout(title_text='Severity of 2022-2023 Accidents in Victoria, Australia')\n",
    "fig.show()\n",
    "\n",
    "\n",
    "# print(severity_counts)\n",
    "severity_labels = {\n",
    "    1: \"Fatal accident\",\n",
    "    2: \"Serious injury accident\",\n",
    "    3: \"Other injury accident\",\n",
    "    4: \"Non injury accident\"\n",
    "}\n",
    "\n",
    "for severity, count in severity_counts.items():\n",
    "    print(f\"Severity {severity} - {severity_labels[int(severity)]}: {count} occurrences\")"
   ]
  },
  {
   "cell_type": "markdown",
   "metadata": {},
   "source": [
    "## 2. Relation of Speed Zone, Severity, Surface Condition"
   ]
  },
  {
   "cell_type": "code",
   "execution_count": null,
   "metadata": {},
   "outputs": [],
   "source": [
    "import plotly.express as px\n",
    "import pandas as pd\n",
    "\n",
    "accident_details = pd.DataFrame(data['accident_details'])\n",
    "\n",
    "\n",
    "accident_details['SPEED_ZONE'] = pd.to_numeric(accident_details['SPEED_ZONE'], errors='coerce')\n",
    "accident_details['SEVERITY'] = pd.to_numeric(accident_details['SEVERITY'], errors='coerce')\n",
    "accident_details['SURFACE_COND'] = pd.to_numeric(accident_details['SURFACE_COND'], errors='coerce')\n",
    "\n",
    "\n",
    "def map_speed_zone(zone):\n",
    "    if 30 <= zone <= 110:\n",
    "        return zone\n",
    "    else:\n",
    "        return 'Other'  \n",
    "\n",
    "\n",
    "accident_details['SPEED_ZONE'] = accident_details['SPEED_ZONE'].apply(map_speed_zone)\n",
    "\n",
    "\n",
    "accident_counts = accident_details['SPEED_ZONE'].value_counts().reset_index()\n",
    "accident_counts.columns = ['SPEED_ZONE', 'COUNT']\n",
    "\n",
    "\n",
    "accident_details = accident_details.merge(accident_counts, on='SPEED_ZONE', how='left')\n",
    "\n",
    "\n",
    "severity_mapping = {1: 'Fatal accident', 2: 'Serious injury accident', 3: 'Other injury accident', 4: 'Non injury accident'}\n",
    "surface_cond_mapping = {1: 'Dry', 2: 'Wet', 3: 'Muddy', 4: 'Snowy', 5: 'Icy', 9: 'Unknown'}\n",
    "\n",
    "\n",
    "fig = px.parallel_coordinates(\n",
    "    accident_details,\n",
    "    dimensions=[\"SPEED_ZONE\", \"SEVERITY\", \"SURFACE_COND\"],\n",
    "    color=\"COUNT\",\n",
    "    labels={\"SPEED_ZONE\": \"Speed Zone\", \"SEVERITY\": \"Severity\", \"SURFACE_COND\": \"Surface Condition\"},\n",
    "    color_continuous_scale=px.colors.sequential.Viridis # 使用离散颜色映射\n",
    ")\n",
    "\n",
    "\n",
    "fig.update_traces(dimensions=[\n",
    "    dict(label='Speed Zone', values=accident_details['SPEED_ZONE']),\n",
    "    dict(label='Severity', values=accident_details['SEVERITY'], ticktext=list(severity_mapping.values()), tickvals=list(severity_mapping.keys())),\n",
    "    dict(label='Surface Condition', values=accident_details['SURFACE_COND'], ticktext=list(surface_cond_mapping.values()), tickvals=list(surface_cond_mapping.keys())),\n",
    "])\n",
    "\n",
    "fig.show()\n",
    "\n",
    "\n",
    "# speed_zone_counts = accident_details['SPEED_ZONE'].value_counts()\n",
    "\n",
    "# speed_zone_counts_df = speed_zone_counts.reset_index()\n",
    "# speed_zone_counts_df.columns = ['Speed Zone', 'Number of Accidents']\n",
    "\n",
    "# print(speed_zone_counts_df)"
   ]
  },
  {
   "cell_type": "markdown",
   "metadata": {},
   "source": [
    "# Road conditions and the number of car accidents"
   ]
  },
  {
   "cell_type": "code",
   "execution_count": null,
   "metadata": {},
   "outputs": [],
   "source": [
    "import pandas as pd\n",
    "import plotly.express as px\n",
    "\n",
    "accident_details = pd.DataFrame(data['accident_details'])\n",
    "\n",
    "accident_counts_by_condition = accident_details.groupby('SURFACE_COND_DESC').size()\n",
    "\n",
    "accident_counts_df = accident_counts_by_condition.reset_index(name='Number of Accidents')\n",
    "accident_counts_df.rename(columns={'SURFACE_COND_DESC': 'Surface Condition'}, inplace=True)\n",
    "\n",
    "print(accident_counts_df)\n",
    "\n",
    "fig = px.bar(\n",
    "    accident_counts_df,\n",
    "    x='Surface Condition',\n",
    "    y='Number of Accidents',\n",
    "    title='Number of Car Accidents by Road Conditions',\n",
    "    color='Surface Condition',  \n",
    "    labels={'Surface Condition': 'Road Conditions', 'Number of Accidents': 'Number of Accidents'}\n",
    ")\n",
    "\n",
    "fig.show()"
   ]
  }
 ],
 "metadata": {
  "kernelspec": {
   "display_name": "base",
   "language": "python",
   "name": "python3"
  },
  "language_info": {
   "codemirror_mode": {
    "name": "ipython",
    "version": 3
   },
   "file_extension": ".py",
   "mimetype": "text/x-python",
   "name": "python",
   "nbconvert_exporter": "python",
   "pygments_lexer": "ipython3",
   "version": "3.11.7"
  }
 },
 "nbformat": 4,
 "nbformat_minor": 2
}
