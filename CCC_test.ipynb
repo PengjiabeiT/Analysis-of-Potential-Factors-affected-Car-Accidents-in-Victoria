{
 "cells": [
  {
   "cell_type": "code",
   "execution_count": 8,
   "id": "25da07ca",
   "metadata": {},
   "outputs": [
    {
     "name": "stdout",
     "output_type": "stream",
     "text": [
      "Hello, World!\n",
      "{'a': 1, 'b': 4, 'c': 9}\n"
     ]
    }
   ],
   "source": [
    "import requests\n",
    "\n",
    "response = requests.get('http://127.0.0.1:5000/hello')\n",
    "print(response.text)\n",
    "\n",
    "data = {'a': 1, 'b': 2, 'c' : 3}\n",
    "response = requests.post('http://127.0.0.1:5000/api', json=data)\n",
    "print(response.json())"
   ]
  },
  {
   "cell_type": "code",
   "execution_count": 1,
   "id": "df935599",
   "metadata": {},
   "outputs": [
    {
     "name": "stdout",
     "output_type": "stream",
     "text": [
      "   Unnamed: 0       Date  Minimum temperature (°C)  Maximum temperature (°C)  \\\n",
      "0         NaN  2024-04-1                      14.0                      28.2   \n",
      "1         NaN  2024-04-2                      14.6                      21.4   \n",
      "2         NaN  2024-04-3                      12.5                      16.6   \n",
      "3         NaN  2024-04-4                       9.5                      18.9   \n",
      "4         NaN  2024-04-5                      11.5                      20.6   \n",
      "\n",
      "   Rainfall (mm)  Evaporation (mm)  Sunshine (hours)  \\\n",
      "0            0.0               3.6               2.3   \n",
      "1           53.2               7.0               6.2   \n",
      "2            2.2               3.0               1.0   \n",
      "3            5.2               1.8               6.4   \n",
      "4            0.0               5.0               7.5   \n",
      "\n",
      "  Direction of maximum wind gust   Speed of maximum wind gust (km/h)  \\\n",
      "0                               N                               43.0   \n",
      "1                              SW                               39.0   \n",
      "2                             SSW                               24.0   \n",
      "3                             SSE                               30.0   \n",
      "4                             SSW                               31.0   \n",
      "\n",
      "  Time of maximum wind gust  ...  9am cloud amount (oktas)  \\\n",
      "0                     10:59  ...                         7   \n",
      "1                     12:12  ...                         7   \n",
      "2                     09:43  ...                         5   \n",
      "3                     13:53  ...                         6   \n",
      "4                     15:19  ...                         7   \n",
      "\n",
      "   9am wind direction  9am wind speed (km/h) 9am MSL pressure (hPa)  \\\n",
      "0                 NNE                      9                 1015.3   \n",
      "1                 NNW                      7                 1009.5   \n",
      "2                  SW                      6                 1020.7   \n",
      "3                                       Calm                 1027.2   \n",
      "4                   N                      6                 1029.2   \n",
      "\n",
      "  3pm Temperature (°C)  3pm relative humidity (%)  3pm cloud amount (oktas)  \\\n",
      "0                 22.2                         71                         7   \n",
      "1                 20.5                         54                         4   \n",
      "2                 15.2                         90                         7   \n",
      "3                 17.7                         51                         7   \n",
      "4                 19.6                         63                         5   \n",
      "\n",
      "   3pm wind direction  3pm wind speed (km/h) 3pm MSL pressure (hPa)  \n",
      "0                 NNE                     15                 1011.7  \n",
      "1                   W                     11                 1011.0  \n",
      "2                  SW                      2                 1021.9  \n",
      "3                 SSE                     13                 1025.9  \n",
      "4                  SW                     13                 1025.9  \n",
      "\n",
      "[5 rows x 22 columns]\n"
     ]
    }
   ],
   "source": [
    "import pandas as pd\n",
    "import requests\n",
    "from io import StringIO\n",
    "\n",
    "# URL for the CSV file\n",
    "url = 'https://reg.bom.gov.au/climate/dwo/202404/text/IDCJDW3050.202404.csv'\n",
    "\n",
    "# Send HTTP request\n",
    "response = requests.get(url)\n",
    "\n",
    "# Check if the request was successful\n",
    "if response.status_code == 200:\n",
    "    # Skip the initial 7 lines of metadata, then read the content into a pandas DataFrame\n",
    "    data = pd.read_csv(StringIO(response.text), skiprows=7)\n",
    "    print(data.head())  # Print the first few rows of the DataFrame to verify it's reading correctly\n",
    "else:\n",
    "    print(f\"Failed to retrieve data: {response.status_code}\")\n"
   ]
  }
 ],
 "metadata": {
  "kernelspec": {
   "display_name": "Python 3 (ipykernel)",
   "language": "python",
   "name": "python3"
  },
  "language_info": {
   "codemirror_mode": {
    "name": "ipython",
    "version": 3
   },
   "file_extension": ".py",
   "mimetype": "text/x-python",
   "name": "python",
   "nbconvert_exporter": "python",
   "pygments_lexer": "ipython3",
   "version": "3.8.18"
  }
 },
 "nbformat": 4,
 "nbformat_minor": 5
}
