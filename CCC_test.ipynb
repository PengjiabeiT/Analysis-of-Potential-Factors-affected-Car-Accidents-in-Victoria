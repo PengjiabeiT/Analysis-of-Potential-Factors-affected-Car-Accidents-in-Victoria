{
 "cells": [
  {
   "cell_type": "code",
   "execution_count": null,
   "id": "25da07ca",
   "metadata": {},
   "outputs": [],
   "source": [
    "import requests\n",
    "\n",
    "response = requests.get('http://127.0.0.1:5000/hello')\n",
    "print(response.text)\n",
    "\n",
    "data = {'a': 1, 'b': 2, 'c' : 3}\n",
    "response = requests.post('http://127.0.0.1:5000/api', json=data)\n",
    "print(response.json())"
   ]
  }
 ],
 "metadata": {
  "kernelspec": {
   "display_name": "Python 3 (ipykernel)",
   "language": "python",
   "name": "python3"
  },
  "language_info": {
   "codemirror_mode": {
    "name": "ipython",
    "version": 3
   },
   "file_extension": ".py",
   "mimetype": "text/x-python",
   "name": "python",
   "nbconvert_exporter": "python",
   "pygments_lexer": "ipython3",
   "version": "3.11.7"
  }
 },
 "nbformat": 4,
 "nbformat_minor": 5
}
