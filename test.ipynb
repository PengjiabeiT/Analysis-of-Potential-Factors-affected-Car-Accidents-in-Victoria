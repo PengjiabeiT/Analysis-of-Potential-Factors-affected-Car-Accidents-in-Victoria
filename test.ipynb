{
 "cells": [
  {
   "cell_type": "code",
   "execution_count": 4,
   "metadata": {},
   "outputs": [
    {
     "name": "stdout",
     "output_type": "stream",
     "text": [
      "yes\n",
      "<class 'str'>\n"
     ]
    }
   ],
   "source": [
    "import requests\n",
    "\n",
    "response = requests.get(\"http://127.0.0.1:9090/searchweather/20240301/20240311\")\n",
    "\n",
    "if response.status_code == 200:\n",
    "    print(\"yes\")\n",
    "    data = response.json()['response']\n",
    "    print(type(data))\n",
    "else:\n",
    "    print(\"no\")"
   ]
  },
  {
   "cell_type": "code",
   "execution_count": 13,
   "metadata": {},
   "outputs": [
    {
     "data": {
      "text/plain": [
       "[{'_index': 'weather',\n",
       "  '_id': '20240302',\n",
       "  '_score': 1.0,\n",
       "  '_source': {'Date': '20240302',\n",
       "   'Rainfall (mm)': '0.0',\n",
       "   'Maximum temperature (°C)': '19.8',\n",
       "   'Minimum temperature (°C)': '15.9'}},\n",
       " {'_index': 'weather',\n",
       "  '_id': '20240306',\n",
       "  '_score': 1.0,\n",
       "  '_source': {'Date': '20240306',\n",
       "   'Rainfall (mm)': '0.0',\n",
       "   'Maximum temperature (°C)': '23.2',\n",
       "   'Minimum temperature (°C)': '14.3'}},\n",
       " {'_index': 'weather',\n",
       "  '_id': '20240308',\n",
       "  '_score': 1.0,\n",
       "  '_source': {'Date': '20240308',\n",
       "   'Rainfall (mm)': '0.0',\n",
       "   'Maximum temperature (°C)': '22.1',\n",
       "   'Minimum temperature (°C)': '14.2'}},\n",
       " {'_index': 'weather',\n",
       "  '_id': '20240301',\n",
       "  '_score': 1.0,\n",
       "  '_source': {'Date': '20240301',\n",
       "   'Rainfall (mm)': '0.0',\n",
       "   'Maximum temperature (°C)': '21.7',\n",
       "   'Minimum temperature (°C)': '14.4'}},\n",
       " {'_index': 'weather',\n",
       "  '_id': '20240303',\n",
       "  '_score': 1.0,\n",
       "  '_source': {'Date': '20240303',\n",
       "   'Rainfall (mm)': '0.0',\n",
       "   'Maximum temperature (°C)': '31.4',\n",
       "   'Minimum temperature (°C)': '12.8'}},\n",
       " {'_index': 'weather',\n",
       "  '_id': '20240304',\n",
       "  '_score': 1.0,\n",
       "  '_source': {'Date': '20240304',\n",
       "   'Rainfall (mm)': '0.0',\n",
       "   'Maximum temperature (°C)': '32.9',\n",
       "   'Minimum temperature (°C)': '13.2'}},\n",
       " {'_index': 'weather',\n",
       "  '_id': '20240309',\n",
       "  '_score': 1.0,\n",
       "  '_source': {'Date': '20240309',\n",
       "   'Rainfall (mm)': '0.0',\n",
       "   'Maximum temperature (°C)': '24.0',\n",
       "   'Minimum temperature (°C)': '16.9'}},\n",
       " {'_index': 'weather',\n",
       "  '_id': '20240305',\n",
       "  '_score': 1.0,\n",
       "  '_source': {'Date': '20240305',\n",
       "   'Rainfall (mm)': '0.0',\n",
       "   'Maximum temperature (°C)': '25.3',\n",
       "   'Minimum temperature (°C)': '11.8'}},\n",
       " {'_index': 'weather',\n",
       "  '_id': '20240307',\n",
       "  '_score': 1.0,\n",
       "  '_source': {'Date': '20240307',\n",
       "   'Rainfall (mm)': '0.0',\n",
       "   'Maximum temperature (°C)': '19.4',\n",
       "   'Minimum temperature (°C)': '16.9'}},\n",
       " {'_index': 'weather',\n",
       "  '_id': '20240310',\n",
       "  '_score': 1.0,\n",
       "  '_source': {'Date': '20240310',\n",
       "   'Rainfall (mm)': '0.0',\n",
       "   'Maximum temperature (°C)': '24.7',\n",
       "   'Minimum temperature (°C)': '21.2'}}]"
      ]
     },
     "execution_count": 13,
     "metadata": {},
     "output_type": "execute_result"
    }
   ],
   "source": [
    "import ast\n",
    "d = ast.literal_eval(data)\n",
    "d"
   ]
  },
  {
   "cell_type": "code",
   "execution_count": 9,
   "metadata": {},
   "outputs": [
    {
     "name": "stdout",
     "output_type": "stream",
     "text": [
      "Status Code: 200\n",
      "Response Body: {\"status\": 200, \"message\": \"Successfully uploaded data to weather\"}\n"
     ]
    }
   ],
   "source": [
    "import csv \n",
    "from datetime import  datetime \n",
    "import requests\n",
    "def get_weather_data():\n",
    "    file_path = \"functions/storeweather/weather2023.csv\"\n",
    "    try:\n",
    "        with open(file_path, newline=\"\") as file:\n",
    "            reader = csv.DictReader(file)\n",
    "            next(reader)\n",
    "            return [row for row in reader]\n",
    "    except FileNotFoundError as e:\n",
    "        print(\"ERROR: \", e)\n",
    "        return None\n",
    "\n",
    "records = get_weather_data()\n",
    "actions = []\n",
    "for obs in records:\n",
    "    # print(obs)\n",
    "    date =  datetime.strptime(obs[\"Date\"], \"%Y-%m-%d\").strftime(\"%Y%m%d\")\n",
    "    obs[\"Date\"] = date\n",
    "\n",
    "    action = {\n",
    "        \"_index\": \"weather\",\n",
    "        \"_id\": date,\n",
    "        \"_source\": obs,\n",
    "    }\n",
    "    # print(action)\n",
    "    # break\n",
    "    actions.append(action)\n",
    "    \n",
    "\n",
    "url = \"http://127.0.0.1:9090/put/weather\" \n",
    "response = requests.put(url, json=actions)\n",
    "\n",
    "print('Status Code:', response.status_code)\n",
    "print('Response Body:', response.text)\n"
   ]
  },
  {
   "cell_type": "code",
   "execution_count": null,
   "metadata": {},
   "outputs": [],
   "source": []
  }
 ],
 "metadata": {
  "kernelspec": {
   "display_name": "cloud",
   "language": "python",
   "name": "python3"
  },
  "language_info": {
   "codemirror_mode": {
    "name": "ipython",
    "version": 3
   },
   "file_extension": ".py",
   "mimetype": "text/x-python",
   "name": "python",
   "nbconvert_exporter": "python",
   "pygments_lexer": "ipython3",
   "version": "3.11.9"
  }
 },
 "nbformat": 4,
 "nbformat_minor": 2
}
