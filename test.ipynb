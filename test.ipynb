{
 "cells": [
  {
   "cell_type": "code",
   "execution_count": 4,
   "metadata": {},
   "outputs": [
    {
     "name": "stdout",
     "output_type": "stream",
     "text": [
      "yes\n",
      "<class 'str'>\n"
     ]
    }
   ],
   "source": [
    "import requests\n",
    "\n",
    "response = requests.get(\"http://127.0.0.1:9090/searchweather/20240301/20240311\")\n",
    "\n",
    "if response.status_code == 200:\n",
    "    print(\"yes\")\n",
    "    data = response.json()['response']\n",
    "    print(type(data))\n",
    "else:\n",
    "    print(\"no\")"
   ]
  },
  {
   "cell_type": "code",
   "execution_count": 9,
   "metadata": {},
   "outputs": [
    {
     "data": {
      "text/plain": [
       "\"[{'_index': 'weather', '_id': '20240302', '_score': 1.0, '_source': {'Date': '20240302', 'Rainfall (mm)': '0.0', 'Maximum temperature (°C)': '19.8', 'Minimum temperature (°C)': '15.9'}}, {'_index': 'weather', '_id': '20240306', '_score': 1.0, '_source': {'Date': '20240306', 'Rainfall (mm)': '0.0', 'Maximum temperature (°C)': '23.2', 'Minimum temperature (°C)': '14.3'}}, {'_index': 'weather', '_id': '20240308', '_score': 1.0, '_source': {'Date': '20240308', 'Rainfall (mm)': '0.0', 'Maximum temperature (°C)': '22.1', 'Minimum temperature (°C)': '14.2'}}, {'_index': 'weather', '_id': '20240301', '_score': 1.0, '_source': {'Date': '20240301', 'Rainfall (mm)': '0.0', 'Maximum temperature (°C)': '21.7', 'Minimum temperature (°C)': '14.4'}}, {'_index': 'weather', '_id': '20240303', '_score': 1.0, '_source': {'Date': '20240303', 'Rainfall (mm)': '0.0', 'Maximum temperature (°C)': '31.4', 'Minimum temperature (°C)': '12.8'}}, {'_index': 'weather', '_id': '20240304', '_score': 1.0, '_source': {'Date': '20240304', 'Rainfall (mm)': '0.0', 'Maximum temperature (°C)': '32.9', 'Minimum temperature (°C)': '13.2'}}, {'_index': 'weather', '_id': '20240309', '_score': 1.0, '_source': {'Date': '20240309', 'Rainfall (mm)': '0.0', 'Maximum temperature (°C)': '24.0', 'Minimum temperature (°C)': '16.9'}}, {'_index': 'weather', '_id': '20240305', '_score': 1.0, '_source': {'Date': '20240305', 'Rainfall (mm)': '0.0', 'Maximum temperature (°C)': '25.3', 'Minimum temperature (°C)': '11.8'}}, {'_index': 'weather', '_id': '20240307', '_score': 1.0, '_source': {'Date': '20240307', 'Rainfall (mm)': '0.0', 'Maximum temperature (°C)': '19.4', 'Minimum temperature (°C)': '16.9'}}, {'_index': 'weather', '_id': '20240310', '_score': 1.0, '_source': {'Date': '20240310', 'Rainfall (mm)': '0.0', 'Maximum temperature (°C)': '24.7', 'Minimum temperature (°C)': '21.2'}}]\""
      ]
     },
     "execution_count": 9,
     "metadata": {},
     "output_type": "execute_result"
    }
   ],
   "source": [
    "data"
   ]
  },
  {
   "cell_type": "code",
   "execution_count": 13,
   "metadata": {},
   "outputs": [
    {
     "data": {
      "text/plain": [
       "[{'_index': 'weather',\n",
       "  '_id': '20240302',\n",
       "  '_score': 1.0,\n",
       "  '_source': {'Date': '20240302',\n",
       "   'Rainfall (mm)': '0.0',\n",
       "   'Maximum temperature (°C)': '19.8',\n",
       "   'Minimum temperature (°C)': '15.9'}},\n",
       " {'_index': 'weather',\n",
       "  '_id': '20240306',\n",
       "  '_score': 1.0,\n",
       "  '_source': {'Date': '20240306',\n",
       "   'Rainfall (mm)': '0.0',\n",
       "   'Maximum temperature (°C)': '23.2',\n",
       "   'Minimum temperature (°C)': '14.3'}},\n",
       " {'_index': 'weather',\n",
       "  '_id': '20240308',\n",
       "  '_score': 1.0,\n",
       "  '_source': {'Date': '20240308',\n",
       "   'Rainfall (mm)': '0.0',\n",
       "   'Maximum temperature (°C)': '22.1',\n",
       "   'Minimum temperature (°C)': '14.2'}},\n",
       " {'_index': 'weather',\n",
       "  '_id': '20240301',\n",
       "  '_score': 1.0,\n",
       "  '_source': {'Date': '20240301',\n",
       "   'Rainfall (mm)': '0.0',\n",
       "   'Maximum temperature (°C)': '21.7',\n",
       "   'Minimum temperature (°C)': '14.4'}},\n",
       " {'_index': 'weather',\n",
       "  '_id': '20240303',\n",
       "  '_score': 1.0,\n",
       "  '_source': {'Date': '20240303',\n",
       "   'Rainfall (mm)': '0.0',\n",
       "   'Maximum temperature (°C)': '31.4',\n",
       "   'Minimum temperature (°C)': '12.8'}},\n",
       " {'_index': 'weather',\n",
       "  '_id': '20240304',\n",
       "  '_score': 1.0,\n",
       "  '_source': {'Date': '20240304',\n",
       "   'Rainfall (mm)': '0.0',\n",
       "   'Maximum temperature (°C)': '32.9',\n",
       "   'Minimum temperature (°C)': '13.2'}},\n",
       " {'_index': 'weather',\n",
       "  '_id': '20240309',\n",
       "  '_score': 1.0,\n",
       "  '_source': {'Date': '20240309',\n",
       "   'Rainfall (mm)': '0.0',\n",
       "   'Maximum temperature (°C)': '24.0',\n",
       "   'Minimum temperature (°C)': '16.9'}},\n",
       " {'_index': 'weather',\n",
       "  '_id': '20240305',\n",
       "  '_score': 1.0,\n",
       "  '_source': {'Date': '20240305',\n",
       "   'Rainfall (mm)': '0.0',\n",
       "   'Maximum temperature (°C)': '25.3',\n",
       "   'Minimum temperature (°C)': '11.8'}},\n",
       " {'_index': 'weather',\n",
       "  '_id': '20240307',\n",
       "  '_score': 1.0,\n",
       "  '_source': {'Date': '20240307',\n",
       "   'Rainfall (mm)': '0.0',\n",
       "   'Maximum temperature (°C)': '19.4',\n",
       "   'Minimum temperature (°C)': '16.9'}},\n",
       " {'_index': 'weather',\n",
       "  '_id': '20240310',\n",
       "  '_score': 1.0,\n",
       "  '_source': {'Date': '20240310',\n",
       "   'Rainfall (mm)': '0.0',\n",
       "   'Maximum temperature (°C)': '24.7',\n",
       "   'Minimum temperature (°C)': '21.2'}}]"
      ]
     },
     "execution_count": 13,
     "metadata": {},
     "output_type": "execute_result"
    }
   ],
   "source": [
    "import ast\n",
    "d = ast.literal_eval(data)\n",
    "d"
   ]
  }
 ],
 "metadata": {
  "kernelspec": {
   "display_name": "cloud",
   "language": "python",
   "name": "python3"
  },
  "language_info": {
   "codemirror_mode": {
    "name": "ipython",
    "version": 3
   },
   "file_extension": ".py",
   "mimetype": "text/x-python",
   "name": "python",
   "nbconvert_exporter": "python",
   "pygments_lexer": "ipython3",
   "version": "3.11.9"
  }
 },
 "nbformat": 4,
 "nbformat_minor": 2
}
